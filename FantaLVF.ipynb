{
  "nbformat": 4,
  "nbformat_minor": 0,
  "metadata": {
    "colab": {
      "provenance": [],
      "authorship_tag": "ABX9TyOFGcS4B1MDjS7s1rVgXsWE"
    },
    "kernelspec": {
      "name": "python3",
      "display_name": "Python 3"
    },
    "language_info": {
      "name": "python"
    }
  },
  "cells": [
    {
      "cell_type": "code",
      "execution_count": 1,
      "metadata": {
        "id": "RPjJpMm2PI9m"
      },
      "outputs": [],
      "source": [
        "import pandas as pd\n",
        "import requests\n",
        "import time"
      ]
    },
    {
      "cell_type": "code",
      "source": [
        "def get_team_data(home_away, team_data):\n",
        "\n",
        "    #replace null object with \"null\" string\n",
        "    team_dict = eval(team_data.loc[home_away].to_json().replace(\"null\", \"'null'\"))\n",
        "\n",
        "    #player stats\n",
        "    team_info = pd.DataFrame.from_dict(team_dict[\"data\"])\n",
        "\n",
        "    #storage dataframe\n",
        "    player_stats = pd.DataFrame()\n",
        "\n",
        "    #loop through dicts in lineups col and convert dicts to dataframes\n",
        "    for player in team_info[\"lineups\"]:\n",
        "        p_stat = pd.DataFrame([player]).rename(columns={\"id\": \"player_id\"})\n",
        "        player_stats = pd.concat([player_stats, p_stat], axis=0)\n",
        "\n",
        "    #reset indexes\n",
        "    team_info = team_info.reset_index(drop=True)\n",
        "    player_stats = player_stats.reset_index(drop=True)\n",
        "\n",
        "    #side-by-side join of info (team id, name, abbr, score)\n",
        "    return_df = pd.concat([team_info, player_stats], axis=1)\n",
        "\n",
        "    #rename colums\n",
        "    return_df = return_df.rename(columns={\"id\": f\"{home_away}_id\",\n",
        "                                          \"name\": f\"{home_away}_name\",\n",
        "                                          \"abbreviation\": f\"{home_away}_abbreviation\",\n",
        "                                          \"score\": f\"{home_away}_score\"})\n",
        "\n",
        "    #drop lineups column\n",
        "    return_df = return_df.drop([\"lineups\"], axis=1)\n",
        "\n",
        "    return return_df\n",
        "\n",
        "\n",
        "\n",
        "def get_match_data(data):\n",
        "    df = pd.DataFrame.from_dict(data)\n",
        "\n",
        "    home_data = get_team_data(\"home_team\", df)\n",
        "    away_data = get_team_data(\"away_team\", df)\n",
        "\n",
        "    # get the columns with the match information\n",
        "    match_info = df.loc[[\"id\", \"status\", \"ot\", \"started_at\"]].transpose()\n",
        "    match_info = match_info.rename(columns={\"id\": \"match_id\"})\n",
        "\n",
        "    #number of times to duplicate is max number of players on a team (usually 14)\n",
        "    dupl_times = max([home_data.shape[0], away_data.shape[0]])\n",
        "\n",
        "    #duplicate the match info rows as many times as there is data\n",
        "    match_info = pd.concat([match_info] * dupl_times, ignore_index=True)\n",
        "\n",
        "    #concatenate the match_info, home_data, and away_data tables together\n",
        "    match_data = pd.concat([match_info, home_data, away_data], axis=1)\n",
        "\n",
        "    return match_data"
      ],
      "metadata": {
        "id": "0TXtrQ9YqwvH"
      },
      "execution_count": 2,
      "outputs": []
    },
    {
      "cell_type": "code",
      "source": [
        "#urls for round 1 matches\n",
        "match_urls = [4806, 4807, 4808, 4809, 4810, 4811, 4812]\n",
        "\n",
        "match_dataframes = []"
      ],
      "metadata": {
        "id": "v18CAwQfPbHQ"
      },
      "execution_count": 3,
      "outputs": []
    },
    {
      "cell_type": "code",
      "source": [
        "for match in match_urls:\n",
        "    url = f\"https://fantaking-api.dunkest.com/api/v1/matches/{match}/lineups\"\n",
        "\n",
        "    headers = {\n",
        "        \"User-Agent\": \"Mozilla/5.0\",\n",
        "        \"Accept\": \"application/json\"\n",
        "    }\n",
        "\n",
        "    # Send the request\n",
        "    response = requests.get(url, headers=headers)\n",
        "\n",
        "    # Check if the request was successful\n",
        "    if response.status_code == 200:\n",
        "        data = response.json()  # Assuming it's in JSON format\n",
        "        match_dataframes.append(get_match_data(data))\n",
        "        print(\"done\")\n",
        "\n",
        "        #wait 5s for api reasons\n",
        "        time.sleep(5)\n",
        "\n",
        "    else:\n",
        "        print(f\"Failed to fetch data. Status code: {response.status_code}\")\n"
      ],
      "metadata": {
        "colab": {
          "base_uri": "https://localhost:8080/"
        },
        "id": "KA1Zz2p8PaBX",
        "outputId": "bfa90865-9e6b-4cd3-e1d9-e7d40164575b"
      },
      "execution_count": 4,
      "outputs": [
        {
          "output_type": "stream",
          "name": "stdout",
          "text": [
            "done\n",
            "done\n",
            "done\n",
            "done\n",
            "done\n",
            "done\n",
            "done\n"
          ]
        }
      ]
    },
    {
      "cell_type": "code",
      "source": [
        "pd.concat(match_dataframes).to_csv(\"match_dataframes.csv\")"
      ],
      "metadata": {
        "id": "0jwcesNMQDs7"
      },
      "execution_count": 10,
      "outputs": []
    }
  ]
}