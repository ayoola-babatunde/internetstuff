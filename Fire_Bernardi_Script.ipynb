{
  "cells": [
    {
      "cell_type": "code",
      "execution_count": 1,
      "metadata": {
        "id": "2WxZ4ODDRTc2"
      },
      "outputs": [],
      "source": [
        "!pip install youtube-transcript-api -q\n",
        "!pip install pytube -q\n",
        "#!pip install youtube-dl -q\n",
        "#!pip install ffmpeg -q"
      ]
    },
    {
      "cell_type": "code",
      "execution_count": 2,
      "metadata": {
        "id": "FKPeIEPiRYZH"
      },
      "outputs": [],
      "source": [
        "from youtube_transcript_api import YouTubeTranscriptApi\n",
        "from pytube import Playlist\n",
        "import pandas as pd\n",
        "from tqdm import tqdm\n",
        "import youtube_dl"
      ]
    },
    {
      "cell_type": "code",
      "execution_count": null,
      "metadata": {
        "id": "YG6rmmubSuPD"
      },
      "outputs": [],
      "source": [
        "playlist99 = Playlist(\"https://www.youtube.com/playlist?list=PLWokY7_drU-4ZX8fF4pZcfd9RUz5MFOXN\")"
      ]
    },
    {
      "cell_type": "code",
      "execution_count": null,
      "metadata": {
        "id": "miQ2GpA2Tswj"
      },
      "outputs": [],
      "source": [
        "all_urls = [url.split('?v=')[1] for url in playlist99.video_urls]\n",
        "all_titles = [vid.title for vid in playlist99.videos]"
      ]
    },
    {
      "cell_type": "code",
      "execution_count": null,
      "metadata": {
        "colab": {
          "base_uri": "https://localhost:8080/"
        },
        "id": "39ctyGehT0kr",
        "outputId": "ad143311-17dd-430b-878d-0313eca3114e"
      },
      "outputs": [
        {
          "output_type": "stream",
          "name": "stderr",
          "text": [
            "1it [00:00,  2.76it/s]"
          ]
        },
        {
          "output_type": "stream",
          "name": "stdout",
          "text": [
            "transcripts disabled NEW YEAR, MORE VOLLEYBALL | The 9x9 | January 10, 2023\n"
          ]
        },
        {
          "output_type": "stream",
          "name": "stderr",
          "text": [
            "29it [00:13,  2.25it/s]"
          ]
        },
        {
          "output_type": "stream",
          "name": "stdout",
          "text": [
            "transcripts disabled 🇧🇷 Brazil vs. 🇲🇽 Mexico | 2022 Men's Pan Am Cup\n"
          ]
        },
        {
          "output_type": "stream",
          "name": "stderr",
          "text": [
            "89it [00:39,  2.50it/s]"
          ]
        },
        {
          "output_type": "stream",
          "name": "stdout",
          "text": [
            "transcripts disabled The 9x9 | January 12th, 2022 | Ep. 009\n"
          ]
        },
        {
          "output_type": "stream",
          "name": "stderr",
          "text": [
            "107it [00:47,  2.26it/s]\n"
          ]
        }
      ],
      "source": [
        "all_tscript = pd.DataFrame()\n",
        "for url, title in tqdm(zip(all_urls, all_titles)): \n",
        "    try: \n",
        "        tscript = pd.DataFrame(YouTubeTranscriptApi.get_transcript(url))\n",
        "    except Exception as e: \n",
        "        if str(e)[1:32] == \"Could not retrieve a transcript\": \n",
        "            print('transcripts disabled', title)\n",
        "            continue\n",
        "        else: \n",
        "            print(str(e), title)\n",
        "            continue\n",
        "    tscript['url'] = url\n",
        "    tscript['title'] = title\n",
        "    all_tscript = pd.concat([all_tscript, tscript])"
      ]
    },
    {
      "cell_type": "code",
      "execution_count": null,
      "metadata": {
        "id": "WXC2BGJfsqxT"
      },
      "outputs": [],
      "source": [
        "all_tscript = all_tscript.reset_index()"
      ]
    },
    {
      "cell_type": "code",
      "execution_count": null,
      "metadata": {
        "colab": {
          "base_uri": "https://localhost:8080/",
          "height": 1000
        },
        "id": "WiTQQi-XVCRd",
        "outputId": "01ba6bad-29ee-41d6-a867-f54bf39c67b8"
      },
      "outputs": [
        {
          "output_type": "execute_result",
          "data": {
            "text/plain": [
              "        index                                      text     start  duration  \\\n",
              "464       464     uh one word Bernardi Bernardi uh also  1067.760     5.460   \n",
              "653       653  volleyball stoichev Piazza Bernardi have  1447.620     5.100   \n",
              "3666     1328   coaching Bernardi is a student for sure  2853.720     4.020   \n",
              "3671     1333    right Bernardi's a student but I don't  2863.680     4.560   \n",
              "3811     1473                    Bernardi does piagenzo  3146.700     5.220   \n",
              "10588     906  out yet I think that Bernardi deserves a  1940.279     4.441   \n",
              "10693    1011     love to replace Bernardi with him God  2157.359     4.561   \n",
              "10965    1283  Bernardi's the coach you're not going to  2734.020     3.120   \n",
              "19916    1318    when do you fire Bernardi when does it  2950.440     5.220   \n",
              "19918    1320     Bernardi that stooge get out of there  2955.660     3.540   \n",
              "19923    1325   saw the year before underneath Bernardi  2966.339     4.801   \n",
              "19931    1333       Bernardi I I mean I've been on that  2981.940     3.899   \n",
              "19934    1336   Bernardi is a stooge I mean in this one  2987.280     4.440   \n",
              "19945    1347    Bernardi being a weirdo they've got to  3010.140     4.679   \n",
              "27908    1094    don't know if they're winners Bernardi  2430.839     4.861   \n",
              "30490    1489     to set for Bernardino this year uh in  3227.880     4.679   \n",
              "31975     869  Bernardino like she is going to learn so  1898.940     5.520   \n",
              "42267     522         piochenza and idiot Bernardi just  1247.760     6.659   \n",
              "58191    1285   Bernardino walking away this wasn't you  2730.839     4.081   \n",
              "60527      59      bernardino a bernardo rosenda out of   170.560     4.399   \n",
              "84367    1797  bernard is a stooge bernardi is a stooge  3555.920     2.800   \n",
              "102372    620        the strategy entirely bernardi you  1292.640     5.120   \n",
              "108084    306                                  bernardi   653.760     2.639   \n",
              "109007   1229     um as we see bernardino the brazilian  2487.440     4.720   \n",
              "109024   1246     bernardino was coming in but i was so  2521.119     3.841   \n",
              "109047   1269              bernardino's only tournament  2563.599     3.841   \n",
              "115822   1405     bernardi for sure that guy just has a  2844.720     4.639   \n",
              "131638   2186   bernardi is an idiot and that helps but  4450.640     5.039   \n",
              "133018    513    bernardi's off my off my list for this  1073.440     4.239   \n",
              "\n",
              "                url                                              title  \n",
              "464     p3sWS2dJDpU  VOLLEYBALL YEAR IN REVIEW | The 9x9 | December...  \n",
              "653     p3sWS2dJDpU  VOLLEYBALL YEAR IN REVIEW | The 9x9 | December...  \n",
              "3666    0-2nudLvEUY  CONEGLIANO ON TOP OF THE WORLD | The 9x9 | Dec...  \n",
              "3671    0-2nudLvEUY  CONEGLIANO ON TOP OF THE WORLD | The 9x9 | Dec...  \n",
              "3811    0-2nudLvEUY  CONEGLIANO ON TOP OF THE WORLD | The 9x9 | Dec...  \n",
              "10588   wqO25GIrPCE  CONEGLIANO DOES IT AGAIN | The 9x9 | November ...  \n",
              "10693   wqO25GIrPCE  CONEGLIANO DOES IT AGAIN | The 9x9 | November ...  \n",
              "10965   wqO25GIrPCE  CONEGLIANO DOES IT AGAIN | The 9x9 | November ...  \n",
              "19916   UPPuzUy9Q3A  SUPERCUP CHAMPIONS CROWNED | The 9x9 | Novembe...  \n",
              "19918   UPPuzUy9Q3A  SUPERCUP CHAMPIONS CROWNED | The 9x9 | Novembe...  \n",
              "19923   UPPuzUy9Q3A  SUPERCUP CHAMPIONS CROWNED | The 9x9 | Novembe...  \n",
              "19931   UPPuzUy9Q3A  SUPERCUP CHAMPIONS CROWNED | The 9x9 | Novembe...  \n",
              "19934   UPPuzUy9Q3A  SUPERCUP CHAMPIONS CROWNED | The 9x9 | Novembe...  \n",
              "19945   UPPuzUy9Q3A  SUPERCUP CHAMPIONS CROWNED | The 9x9 | Novembe...  \n",
              "27908   3sTHqVDR0Eo  EARLY CLUB SEASON BANGERS | The 9x9 | October ...  \n",
              "30490   ZytXF18aYfg  WOMEN'S WORLD CHAMPIONSHIP BRACKET PREVIEW | T...  \n",
              "31975   0ajjKuZRc4s  WOMEN'S WORLD CHAMPIONSHIP PHASE 2 PREVIEW | T...  \n",
              "42267   oVbc9vX1N9I  WORLD CHAMPIONSHIP FINAL FOUR SET | The 9x9 | ...  \n",
              "58191   MpDJ10r4NIc                The 9x9 | August 16, 2022 | Ep. 038  \n",
              "60527   3c97wZDbNd0                  The 9x9 | July 26, 2022 | Ep. 036  \n",
              "84367   L7CxQ8EZLAM    LIVE FROM VNL OTTAWA | Monday, June 6 | The 9x9  \n",
              "102372  JX1lZr5lIns     The 9x9 | April 12, 2022 | Ep. 022 #volleyball  \n",
              "108084  N70kmikiQVs               The 9x9 | March 22nd, 2022 | Ep. 019  \n",
              "109007  N70kmikiQVs               The 9x9 | March 22nd, 2022 | Ep. 019  \n",
              "109024  N70kmikiQVs               The 9x9 | March 22nd, 2022 | Ep. 019  \n",
              "109047  N70kmikiQVs               The 9x9 | March 22nd, 2022 | Ep. 019  \n",
              "115822  bUfUuUEyQws            The 9x9 | February 22nd, 2022 | Ep. 015  \n",
              "131638  NrlJ5kbILXk             The 9x9 | January 25th, 2022 | Ep. 011  \n",
              "133018  _DXli6HOEwM             The 9x9 | January 18th, 2022 | Ep. 010  "
            ],
            "text/html": [
              "\n",
              "  <div id=\"df-eeee6372-7c8a-4e6f-99c1-4775f923ad73\">\n",
              "    <div class=\"colab-df-container\">\n",
              "      <div>\n",
              "<style scoped>\n",
              "    .dataframe tbody tr th:only-of-type {\n",
              "        vertical-align: middle;\n",
              "    }\n",
              "\n",
              "    .dataframe tbody tr th {\n",
              "        vertical-align: top;\n",
              "    }\n",
              "\n",
              "    .dataframe thead th {\n",
              "        text-align: right;\n",
              "    }\n",
              "</style>\n",
              "<table border=\"1\" class=\"dataframe\">\n",
              "  <thead>\n",
              "    <tr style=\"text-align: right;\">\n",
              "      <th></th>\n",
              "      <th>index</th>\n",
              "      <th>text</th>\n",
              "      <th>start</th>\n",
              "      <th>duration</th>\n",
              "      <th>url</th>\n",
              "      <th>title</th>\n",
              "    </tr>\n",
              "  </thead>\n",
              "  <tbody>\n",
              "    <tr>\n",
              "      <th>464</th>\n",
              "      <td>464</td>\n",
              "      <td>uh one word Bernardi Bernardi uh also</td>\n",
              "      <td>1067.760</td>\n",
              "      <td>5.460</td>\n",
              "      <td>p3sWS2dJDpU</td>\n",
              "      <td>VOLLEYBALL YEAR IN REVIEW | The 9x9 | December...</td>\n",
              "    </tr>\n",
              "    <tr>\n",
              "      <th>653</th>\n",
              "      <td>653</td>\n",
              "      <td>volleyball stoichev Piazza Bernardi have</td>\n",
              "      <td>1447.620</td>\n",
              "      <td>5.100</td>\n",
              "      <td>p3sWS2dJDpU</td>\n",
              "      <td>VOLLEYBALL YEAR IN REVIEW | The 9x9 | December...</td>\n",
              "    </tr>\n",
              "    <tr>\n",
              "      <th>3666</th>\n",
              "      <td>1328</td>\n",
              "      <td>coaching Bernardi is a student for sure</td>\n",
              "      <td>2853.720</td>\n",
              "      <td>4.020</td>\n",
              "      <td>0-2nudLvEUY</td>\n",
              "      <td>CONEGLIANO ON TOP OF THE WORLD | The 9x9 | Dec...</td>\n",
              "    </tr>\n",
              "    <tr>\n",
              "      <th>3671</th>\n",
              "      <td>1333</td>\n",
              "      <td>right Bernardi's a student but I don't</td>\n",
              "      <td>2863.680</td>\n",
              "      <td>4.560</td>\n",
              "      <td>0-2nudLvEUY</td>\n",
              "      <td>CONEGLIANO ON TOP OF THE WORLD | The 9x9 | Dec...</td>\n",
              "    </tr>\n",
              "    <tr>\n",
              "      <th>3811</th>\n",
              "      <td>1473</td>\n",
              "      <td>Bernardi does piagenzo</td>\n",
              "      <td>3146.700</td>\n",
              "      <td>5.220</td>\n",
              "      <td>0-2nudLvEUY</td>\n",
              "      <td>CONEGLIANO ON TOP OF THE WORLD | The 9x9 | Dec...</td>\n",
              "    </tr>\n",
              "    <tr>\n",
              "      <th>10588</th>\n",
              "      <td>906</td>\n",
              "      <td>out yet I think that Bernardi deserves a</td>\n",
              "      <td>1940.279</td>\n",
              "      <td>4.441</td>\n",
              "      <td>wqO25GIrPCE</td>\n",
              "      <td>CONEGLIANO DOES IT AGAIN | The 9x9 | November ...</td>\n",
              "    </tr>\n",
              "    <tr>\n",
              "      <th>10693</th>\n",
              "      <td>1011</td>\n",
              "      <td>love to replace Bernardi with him God</td>\n",
              "      <td>2157.359</td>\n",
              "      <td>4.561</td>\n",
              "      <td>wqO25GIrPCE</td>\n",
              "      <td>CONEGLIANO DOES IT AGAIN | The 9x9 | November ...</td>\n",
              "    </tr>\n",
              "    <tr>\n",
              "      <th>10965</th>\n",
              "      <td>1283</td>\n",
              "      <td>Bernardi's the coach you're not going to</td>\n",
              "      <td>2734.020</td>\n",
              "      <td>3.120</td>\n",
              "      <td>wqO25GIrPCE</td>\n",
              "      <td>CONEGLIANO DOES IT AGAIN | The 9x9 | November ...</td>\n",
              "    </tr>\n",
              "    <tr>\n",
              "      <th>19916</th>\n",
              "      <td>1318</td>\n",
              "      <td>when do you fire Bernardi when does it</td>\n",
              "      <td>2950.440</td>\n",
              "      <td>5.220</td>\n",
              "      <td>UPPuzUy9Q3A</td>\n",
              "      <td>SUPERCUP CHAMPIONS CROWNED | The 9x9 | Novembe...</td>\n",
              "    </tr>\n",
              "    <tr>\n",
              "      <th>19918</th>\n",
              "      <td>1320</td>\n",
              "      <td>Bernardi that stooge get out of there</td>\n",
              "      <td>2955.660</td>\n",
              "      <td>3.540</td>\n",
              "      <td>UPPuzUy9Q3A</td>\n",
              "      <td>SUPERCUP CHAMPIONS CROWNED | The 9x9 | Novembe...</td>\n",
              "    </tr>\n",
              "    <tr>\n",
              "      <th>19923</th>\n",
              "      <td>1325</td>\n",
              "      <td>saw the year before underneath Bernardi</td>\n",
              "      <td>2966.339</td>\n",
              "      <td>4.801</td>\n",
              "      <td>UPPuzUy9Q3A</td>\n",
              "      <td>SUPERCUP CHAMPIONS CROWNED | The 9x9 | Novembe...</td>\n",
              "    </tr>\n",
              "    <tr>\n",
              "      <th>19931</th>\n",
              "      <td>1333</td>\n",
              "      <td>Bernardi I I mean I've been on that</td>\n",
              "      <td>2981.940</td>\n",
              "      <td>3.899</td>\n",
              "      <td>UPPuzUy9Q3A</td>\n",
              "      <td>SUPERCUP CHAMPIONS CROWNED | The 9x9 | Novembe...</td>\n",
              "    </tr>\n",
              "    <tr>\n",
              "      <th>19934</th>\n",
              "      <td>1336</td>\n",
              "      <td>Bernardi is a stooge I mean in this one</td>\n",
              "      <td>2987.280</td>\n",
              "      <td>4.440</td>\n",
              "      <td>UPPuzUy9Q3A</td>\n",
              "      <td>SUPERCUP CHAMPIONS CROWNED | The 9x9 | Novembe...</td>\n",
              "    </tr>\n",
              "    <tr>\n",
              "      <th>19945</th>\n",
              "      <td>1347</td>\n",
              "      <td>Bernardi being a weirdo they've got to</td>\n",
              "      <td>3010.140</td>\n",
              "      <td>4.679</td>\n",
              "      <td>UPPuzUy9Q3A</td>\n",
              "      <td>SUPERCUP CHAMPIONS CROWNED | The 9x9 | Novembe...</td>\n",
              "    </tr>\n",
              "    <tr>\n",
              "      <th>27908</th>\n",
              "      <td>1094</td>\n",
              "      <td>don't know if they're winners Bernardi</td>\n",
              "      <td>2430.839</td>\n",
              "      <td>4.861</td>\n",
              "      <td>3sTHqVDR0Eo</td>\n",
              "      <td>EARLY CLUB SEASON BANGERS | The 9x9 | October ...</td>\n",
              "    </tr>\n",
              "    <tr>\n",
              "      <th>30490</th>\n",
              "      <td>1489</td>\n",
              "      <td>to set for Bernardino this year uh in</td>\n",
              "      <td>3227.880</td>\n",
              "      <td>4.679</td>\n",
              "      <td>ZytXF18aYfg</td>\n",
              "      <td>WOMEN'S WORLD CHAMPIONSHIP BRACKET PREVIEW | T...</td>\n",
              "    </tr>\n",
              "    <tr>\n",
              "      <th>31975</th>\n",
              "      <td>869</td>\n",
              "      <td>Bernardino like she is going to learn so</td>\n",
              "      <td>1898.940</td>\n",
              "      <td>5.520</td>\n",
              "      <td>0ajjKuZRc4s</td>\n",
              "      <td>WOMEN'S WORLD CHAMPIONSHIP PHASE 2 PREVIEW | T...</td>\n",
              "    </tr>\n",
              "    <tr>\n",
              "      <th>42267</th>\n",
              "      <td>522</td>\n",
              "      <td>piochenza and idiot Bernardi just</td>\n",
              "      <td>1247.760</td>\n",
              "      <td>6.659</td>\n",
              "      <td>oVbc9vX1N9I</td>\n",
              "      <td>WORLD CHAMPIONSHIP FINAL FOUR SET | The 9x9 | ...</td>\n",
              "    </tr>\n",
              "    <tr>\n",
              "      <th>58191</th>\n",
              "      <td>1285</td>\n",
              "      <td>Bernardino walking away this wasn't you</td>\n",
              "      <td>2730.839</td>\n",
              "      <td>4.081</td>\n",
              "      <td>MpDJ10r4NIc</td>\n",
              "      <td>The 9x9 | August 16, 2022 | Ep. 038</td>\n",
              "    </tr>\n",
              "    <tr>\n",
              "      <th>60527</th>\n",
              "      <td>59</td>\n",
              "      <td>bernardino a bernardo rosenda out of</td>\n",
              "      <td>170.560</td>\n",
              "      <td>4.399</td>\n",
              "      <td>3c97wZDbNd0</td>\n",
              "      <td>The 9x9 | July 26, 2022 | Ep. 036</td>\n",
              "    </tr>\n",
              "    <tr>\n",
              "      <th>84367</th>\n",
              "      <td>1797</td>\n",
              "      <td>bernard is a stooge bernardi is a stooge</td>\n",
              "      <td>3555.920</td>\n",
              "      <td>2.800</td>\n",
              "      <td>L7CxQ8EZLAM</td>\n",
              "      <td>LIVE FROM VNL OTTAWA | Monday, June 6 | The 9x9</td>\n",
              "    </tr>\n",
              "    <tr>\n",
              "      <th>102372</th>\n",
              "      <td>620</td>\n",
              "      <td>the strategy entirely bernardi you</td>\n",
              "      <td>1292.640</td>\n",
              "      <td>5.120</td>\n",
              "      <td>JX1lZr5lIns</td>\n",
              "      <td>The 9x9 | April 12, 2022 | Ep. 022 #volleyball</td>\n",
              "    </tr>\n",
              "    <tr>\n",
              "      <th>108084</th>\n",
              "      <td>306</td>\n",
              "      <td>bernardi</td>\n",
              "      <td>653.760</td>\n",
              "      <td>2.639</td>\n",
              "      <td>N70kmikiQVs</td>\n",
              "      <td>The 9x9 | March 22nd, 2022 | Ep. 019</td>\n",
              "    </tr>\n",
              "    <tr>\n",
              "      <th>109007</th>\n",
              "      <td>1229</td>\n",
              "      <td>um as we see bernardino the brazilian</td>\n",
              "      <td>2487.440</td>\n",
              "      <td>4.720</td>\n",
              "      <td>N70kmikiQVs</td>\n",
              "      <td>The 9x9 | March 22nd, 2022 | Ep. 019</td>\n",
              "    </tr>\n",
              "    <tr>\n",
              "      <th>109024</th>\n",
              "      <td>1246</td>\n",
              "      <td>bernardino was coming in but i was so</td>\n",
              "      <td>2521.119</td>\n",
              "      <td>3.841</td>\n",
              "      <td>N70kmikiQVs</td>\n",
              "      <td>The 9x9 | March 22nd, 2022 | Ep. 019</td>\n",
              "    </tr>\n",
              "    <tr>\n",
              "      <th>109047</th>\n",
              "      <td>1269</td>\n",
              "      <td>bernardino's only tournament</td>\n",
              "      <td>2563.599</td>\n",
              "      <td>3.841</td>\n",
              "      <td>N70kmikiQVs</td>\n",
              "      <td>The 9x9 | March 22nd, 2022 | Ep. 019</td>\n",
              "    </tr>\n",
              "    <tr>\n",
              "      <th>115822</th>\n",
              "      <td>1405</td>\n",
              "      <td>bernardi for sure that guy just has a</td>\n",
              "      <td>2844.720</td>\n",
              "      <td>4.639</td>\n",
              "      <td>bUfUuUEyQws</td>\n",
              "      <td>The 9x9 | February 22nd, 2022 | Ep. 015</td>\n",
              "    </tr>\n",
              "    <tr>\n",
              "      <th>131638</th>\n",
              "      <td>2186</td>\n",
              "      <td>bernardi is an idiot and that helps but</td>\n",
              "      <td>4450.640</td>\n",
              "      <td>5.039</td>\n",
              "      <td>NrlJ5kbILXk</td>\n",
              "      <td>The 9x9 | January 25th, 2022 | Ep. 011</td>\n",
              "    </tr>\n",
              "    <tr>\n",
              "      <th>133018</th>\n",
              "      <td>513</td>\n",
              "      <td>bernardi's off my off my list for this</td>\n",
              "      <td>1073.440</td>\n",
              "      <td>4.239</td>\n",
              "      <td>_DXli6HOEwM</td>\n",
              "      <td>The 9x9 | January 18th, 2022 | Ep. 010</td>\n",
              "    </tr>\n",
              "  </tbody>\n",
              "</table>\n",
              "</div>\n",
              "      <button class=\"colab-df-convert\" onclick=\"convertToInteractive('df-eeee6372-7c8a-4e6f-99c1-4775f923ad73')\"\n",
              "              title=\"Convert this dataframe to an interactive table.\"\n",
              "              style=\"display:none;\">\n",
              "        \n",
              "  <svg xmlns=\"http://www.w3.org/2000/svg\" height=\"24px\"viewBox=\"0 0 24 24\"\n",
              "       width=\"24px\">\n",
              "    <path d=\"M0 0h24v24H0V0z\" fill=\"none\"/>\n",
              "    <path d=\"M18.56 5.44l.94 2.06.94-2.06 2.06-.94-2.06-.94-.94-2.06-.94 2.06-2.06.94zm-11 1L8.5 8.5l.94-2.06 2.06-.94-2.06-.94L8.5 2.5l-.94 2.06-2.06.94zm10 10l.94 2.06.94-2.06 2.06-.94-2.06-.94-.94-2.06-.94 2.06-2.06.94z\"/><path d=\"M17.41 7.96l-1.37-1.37c-.4-.4-.92-.59-1.43-.59-.52 0-1.04.2-1.43.59L10.3 9.45l-7.72 7.72c-.78.78-.78 2.05 0 2.83L4 21.41c.39.39.9.59 1.41.59.51 0 1.02-.2 1.41-.59l7.78-7.78 2.81-2.81c.8-.78.8-2.07 0-2.86zM5.41 20L4 18.59l7.72-7.72 1.47 1.35L5.41 20z\"/>\n",
              "  </svg>\n",
              "      </button>\n",
              "      \n",
              "  <style>\n",
              "    .colab-df-container {\n",
              "      display:flex;\n",
              "      flex-wrap:wrap;\n",
              "      gap: 12px;\n",
              "    }\n",
              "\n",
              "    .colab-df-convert {\n",
              "      background-color: #E8F0FE;\n",
              "      border: none;\n",
              "      border-radius: 50%;\n",
              "      cursor: pointer;\n",
              "      display: none;\n",
              "      fill: #1967D2;\n",
              "      height: 32px;\n",
              "      padding: 0 0 0 0;\n",
              "      width: 32px;\n",
              "    }\n",
              "\n",
              "    .colab-df-convert:hover {\n",
              "      background-color: #E2EBFA;\n",
              "      box-shadow: 0px 1px 2px rgba(60, 64, 67, 0.3), 0px 1px 3px 1px rgba(60, 64, 67, 0.15);\n",
              "      fill: #174EA6;\n",
              "    }\n",
              "\n",
              "    [theme=dark] .colab-df-convert {\n",
              "      background-color: #3B4455;\n",
              "      fill: #D2E3FC;\n",
              "    }\n",
              "\n",
              "    [theme=dark] .colab-df-convert:hover {\n",
              "      background-color: #434B5C;\n",
              "      box-shadow: 0px 1px 3px 1px rgba(0, 0, 0, 0.15);\n",
              "      filter: drop-shadow(0px 1px 2px rgba(0, 0, 0, 0.3));\n",
              "      fill: #FFFFFF;\n",
              "    }\n",
              "  </style>\n",
              "\n",
              "      <script>\n",
              "        const buttonEl =\n",
              "          document.querySelector('#df-eeee6372-7c8a-4e6f-99c1-4775f923ad73 button.colab-df-convert');\n",
              "        buttonEl.style.display =\n",
              "          google.colab.kernel.accessAllowed ? 'block' : 'none';\n",
              "\n",
              "        async function convertToInteractive(key) {\n",
              "          const element = document.querySelector('#df-eeee6372-7c8a-4e6f-99c1-4775f923ad73');\n",
              "          const dataTable =\n",
              "            await google.colab.kernel.invokeFunction('convertToInteractive',\n",
              "                                                     [key], {});\n",
              "          if (!dataTable) return;\n",
              "\n",
              "          const docLinkHtml = 'Like what you see? Visit the ' +\n",
              "            '<a target=\"_blank\" href=https://colab.research.google.com/notebooks/data_table.ipynb>data table notebook</a>'\n",
              "            + ' to learn more about interactive tables.';\n",
              "          element.innerHTML = '';\n",
              "          dataTable['output_type'] = 'display_data';\n",
              "          await google.colab.output.renderOutput(dataTable, element);\n",
              "          const docLink = document.createElement('div');\n",
              "          docLink.innerHTML = docLinkHtml;\n",
              "          element.appendChild(docLink);\n",
              "        }\n",
              "      </script>\n",
              "    </div>\n",
              "  </div>\n",
              "  "
            ]
          },
          "metadata": {},
          "execution_count": 60
        }
      ],
      "source": [
        "all_tscript[all_tscript.text.str.contains('bernardi', case=False)]"
      ]
    },
    {
      "cell_type": "code",
      "execution_count": null,
      "metadata": {
        "id": "aidCrxjTrtaX"
      },
      "outputs": [],
      "source": [
        "def open_link(num): \n",
        "    row = all_tscript.iloc[num]\n",
        "    print(f\"https://www.youtube.com/watch?v={row['url']}&t={int(row['start'])-2}\")"
      ]
    },
    {
      "cell_type": "code",
      "execution_count": null,
      "metadata": {
        "colab": {
          "base_uri": "https://localhost:8080/",
          "height": 728
        },
        "id": "FJvKg8rxeQ1y",
        "outputId": "7d74e012-8ae2-41b2-c295-22b5fc6a4e3a"
      },
      "outputs": [
        {
          "data": {
            "text/html": [
              "\n",
              "  <div id=\"df-914f7bcb-30ba-4d92-8a37-576944eef434\">\n",
              "    <div class=\"colab-df-container\">\n",
              "      <div>\n",
              "<style scoped>\n",
              "    .dataframe tbody tr th:only-of-type {\n",
              "        vertical-align: middle;\n",
              "    }\n",
              "\n",
              "    .dataframe tbody tr th {\n",
              "        vertical-align: top;\n",
              "    }\n",
              "\n",
              "    .dataframe thead th {\n",
              "        text-align: right;\n",
              "    }\n",
              "</style>\n",
              "<table border=\"1\" class=\"dataframe\">\n",
              "  <thead>\n",
              "    <tr style=\"text-align: right;\">\n",
              "      <th></th>\n",
              "      <th>text</th>\n",
              "      <th>start</th>\n",
              "      <th>duration</th>\n",
              "      <th>url</th>\n",
              "      <th>title</th>\n",
              "    </tr>\n",
              "  </thead>\n",
              "  <tbody>\n",
              "    <tr>\n",
              "      <th>442</th>\n",
              "      <td>donging piachenza this is the match that</td>\n",
              "      <td>1013.820</td>\n",
              "      <td>3.660</td>\n",
              "      <td>p3sWS2dJDpU</td>\n",
              "      <td>VOLLEYBALL YEAR IN REVIEW | The 9x9 | December...</td>\n",
              "    </tr>\n",
              "    <tr>\n",
              "      <th>447</th>\n",
              "      <td>to an hour and a shower piachenza had</td>\n",
              "      <td>1023.240</td>\n",
              "      <td>4.140</td>\n",
              "      <td>p3sWS2dJDpU</td>\n",
              "      <td>VOLLEYBALL YEAR IN REVIEW | The 9x9 | December...</td>\n",
              "    </tr>\n",
              "    <tr>\n",
              "      <th>451</th>\n",
              "      <td>seriously getting worried for piagenzo</td>\n",
              "      <td>1034.339</td>\n",
              "      <td>3.541</td>\n",
              "      <td>p3sWS2dJDpU</td>\n",
              "      <td>VOLLEYBALL YEAR IN REVIEW | The 9x9 | December...</td>\n",
              "    </tr>\n",
              "    <tr>\n",
              "      <th>456</th>\n",
              "      <td>Rinaldi come on piachenza you gotta</td>\n",
              "      <td>1045.740</td>\n",
              "      <td>5.640</td>\n",
              "      <td>p3sWS2dJDpU</td>\n",
              "      <td>VOLLEYBALL YEAR IN REVIEW | The 9x9 | December...</td>\n",
              "    </tr>\n",
              "    <tr>\n",
              "      <th>475</th>\n",
              "      <td>heck's going on here with piachenza what</td>\n",
              "      <td>1090.440</td>\n",
              "      <td>3.359</td>\n",
              "      <td>p3sWS2dJDpU</td>\n",
              "      <td>VOLLEYBALL YEAR IN REVIEW | The 9x9 | December...</td>\n",
              "    </tr>\n",
              "    <tr>\n",
              "      <th>...</th>\n",
              "      <td>...</td>\n",
              "      <td>...</td>\n",
              "      <td>...</td>\n",
              "      <td>...</td>\n",
              "      <td>...</td>\n",
              "    </tr>\n",
              "    <tr>\n",
              "      <th>1320</th>\n",
              "      <td>for him uh pia chen's roster is</td>\n",
              "      <td>2686.480</td>\n",
              "      <td>4.320</td>\n",
              "      <td>z-L0pD6h7rY</td>\n",
              "      <td>The 9x9 | November 9th, 2021 | Episode 1</td>\n",
              "    </tr>\n",
              "    <tr>\n",
              "      <th>1330</th>\n",
              "      <td>piacenza team as it pertains to the</td>\n",
              "      <td>2710.160</td>\n",
              "      <td>4.400</td>\n",
              "      <td>z-L0pD6h7rY</td>\n",
              "      <td>The 9x9 | November 9th, 2021 | Episode 1</td>\n",
              "    </tr>\n",
              "    <tr>\n",
              "      <th>1343</th>\n",
              "      <td>the middle and i don't think piacenza</td>\n",
              "      <td>2741.119</td>\n",
              "      <td>2.641</td>\n",
              "      <td>z-L0pD6h7rY</td>\n",
              "      <td>The 9x9 | November 9th, 2021 | Episode 1</td>\n",
              "    </tr>\n",
              "    <tr>\n",
              "      <th>1354</th>\n",
              "      <td>this piacenza team and it's weird of</td>\n",
              "      <td>2757.440</td>\n",
              "      <td>3.360</td>\n",
              "      <td>z-L0pD6h7rY</td>\n",
              "      <td>The 9x9 | November 9th, 2021 | Episode 1</td>\n",
              "    </tr>\n",
              "    <tr>\n",
              "      <th>1388</th>\n",
              "      <td>when piacenza beat lubay they started</td>\n",
              "      <td>2823.359</td>\n",
              "      <td>5.601</td>\n",
              "      <td>z-L0pD6h7rY</td>\n",
              "      <td>The 9x9 | November 9th, 2021 | Episode 1</td>\n",
              "    </tr>\n",
              "  </tbody>\n",
              "</table>\n",
              "<p>316 rows × 5 columns</p>\n",
              "</div>\n",
              "      <button class=\"colab-df-convert\" onclick=\"convertToInteractive('df-914f7bcb-30ba-4d92-8a37-576944eef434')\"\n",
              "              title=\"Convert this dataframe to an interactive table.\"\n",
              "              style=\"display:none;\">\n",
              "        \n",
              "  <svg xmlns=\"http://www.w3.org/2000/svg\" height=\"24px\"viewBox=\"0 0 24 24\"\n",
              "       width=\"24px\">\n",
              "    <path d=\"M0 0h24v24H0V0z\" fill=\"none\"/>\n",
              "    <path d=\"M18.56 5.44l.94 2.06.94-2.06 2.06-.94-2.06-.94-.94-2.06-.94 2.06-2.06.94zm-11 1L8.5 8.5l.94-2.06 2.06-.94-2.06-.94L8.5 2.5l-.94 2.06-2.06.94zm10 10l.94 2.06.94-2.06 2.06-.94-2.06-.94-.94-2.06-.94 2.06-2.06.94z\"/><path d=\"M17.41 7.96l-1.37-1.37c-.4-.4-.92-.59-1.43-.59-.52 0-1.04.2-1.43.59L10.3 9.45l-7.72 7.72c-.78.78-.78 2.05 0 2.83L4 21.41c.39.39.9.59 1.41.59.51 0 1.02-.2 1.41-.59l7.78-7.78 2.81-2.81c.8-.78.8-2.07 0-2.86zM5.41 20L4 18.59l7.72-7.72 1.47 1.35L5.41 20z\"/>\n",
              "  </svg>\n",
              "      </button>\n",
              "      \n",
              "  <style>\n",
              "    .colab-df-container {\n",
              "      display:flex;\n",
              "      flex-wrap:wrap;\n",
              "      gap: 12px;\n",
              "    }\n",
              "\n",
              "    .colab-df-convert {\n",
              "      background-color: #E8F0FE;\n",
              "      border: none;\n",
              "      border-radius: 50%;\n",
              "      cursor: pointer;\n",
              "      display: none;\n",
              "      fill: #1967D2;\n",
              "      height: 32px;\n",
              "      padding: 0 0 0 0;\n",
              "      width: 32px;\n",
              "    }\n",
              "\n",
              "    .colab-df-convert:hover {\n",
              "      background-color: #E2EBFA;\n",
              "      box-shadow: 0px 1px 2px rgba(60, 64, 67, 0.3), 0px 1px 3px 1px rgba(60, 64, 67, 0.15);\n",
              "      fill: #174EA6;\n",
              "    }\n",
              "\n",
              "    [theme=dark] .colab-df-convert {\n",
              "      background-color: #3B4455;\n",
              "      fill: #D2E3FC;\n",
              "    }\n",
              "\n",
              "    [theme=dark] .colab-df-convert:hover {\n",
              "      background-color: #434B5C;\n",
              "      box-shadow: 0px 1px 3px 1px rgba(0, 0, 0, 0.15);\n",
              "      filter: drop-shadow(0px 1px 2px rgba(0, 0, 0, 0.3));\n",
              "      fill: #FFFFFF;\n",
              "    }\n",
              "  </style>\n",
              "\n",
              "      <script>\n",
              "        const buttonEl =\n",
              "          document.querySelector('#df-914f7bcb-30ba-4d92-8a37-576944eef434 button.colab-df-convert');\n",
              "        buttonEl.style.display =\n",
              "          google.colab.kernel.accessAllowed ? 'block' : 'none';\n",
              "\n",
              "        async function convertToInteractive(key) {\n",
              "          const element = document.querySelector('#df-914f7bcb-30ba-4d92-8a37-576944eef434');\n",
              "          const dataTable =\n",
              "            await google.colab.kernel.invokeFunction('convertToInteractive',\n",
              "                                                     [key], {});\n",
              "          if (!dataTable) return;\n",
              "\n",
              "          const docLinkHtml = 'Like what you see? Visit the ' +\n",
              "            '<a target=\"_blank\" href=https://colab.research.google.com/notebooks/data_table.ipynb>data table notebook</a>'\n",
              "            + ' to learn more about interactive tables.';\n",
              "          element.innerHTML = '';\n",
              "          dataTable['output_type'] = 'display_data';\n",
              "          await google.colab.output.renderOutput(dataTable, element);\n",
              "          const docLink = document.createElement('div');\n",
              "          docLink.innerHTML = docLinkHtml;\n",
              "          element.appendChild(docLink);\n",
              "        }\n",
              "      </script>\n",
              "    </div>\n",
              "  </div>\n",
              "  "
            ],
            "text/plain": [
              "                                          text     start  duration  \\\n",
              "442   donging piachenza this is the match that  1013.820     3.660   \n",
              "447      to an hour and a shower piachenza had  1023.240     4.140   \n",
              "451     seriously getting worried for piagenzo  1034.339     3.541   \n",
              "456        Rinaldi come on piachenza you gotta  1045.740     5.640   \n",
              "475   heck's going on here with piachenza what  1090.440     3.359   \n",
              "...                                        ...       ...       ...   \n",
              "1320           for him uh pia chen's roster is  2686.480     4.320   \n",
              "1330       piacenza team as it pertains to the  2710.160     4.400   \n",
              "1343     the middle and i don't think piacenza  2741.119     2.641   \n",
              "1354      this piacenza team and it's weird of  2757.440     3.360   \n",
              "1388     when piacenza beat lubay they started  2823.359     5.601   \n",
              "\n",
              "              url                                              title  \n",
              "442   p3sWS2dJDpU  VOLLEYBALL YEAR IN REVIEW | The 9x9 | December...  \n",
              "447   p3sWS2dJDpU  VOLLEYBALL YEAR IN REVIEW | The 9x9 | December...  \n",
              "451   p3sWS2dJDpU  VOLLEYBALL YEAR IN REVIEW | The 9x9 | December...  \n",
              "456   p3sWS2dJDpU  VOLLEYBALL YEAR IN REVIEW | The 9x9 | December...  \n",
              "475   p3sWS2dJDpU  VOLLEYBALL YEAR IN REVIEW | The 9x9 | December...  \n",
              "...           ...                                                ...  \n",
              "1320  z-L0pD6h7rY           The 9x9 | November 9th, 2021 | Episode 1  \n",
              "1330  z-L0pD6h7rY           The 9x9 | November 9th, 2021 | Episode 1  \n",
              "1343  z-L0pD6h7rY           The 9x9 | November 9th, 2021 | Episode 1  \n",
              "1354  z-L0pD6h7rY           The 9x9 | November 9th, 2021 | Episode 1  \n",
              "1388  z-L0pD6h7rY           The 9x9 | November 9th, 2021 | Episode 1  \n",
              "\n",
              "[316 rows x 5 columns]"
            ]
          },
          "execution_count": 8,
          "metadata": {},
          "output_type": "execute_result"
        }
      ],
      "source": [
        "all_tscript[all_tscript.text.str.contains('pia', case=False)]"
      ]
    },
    {
      "cell_type": "code",
      "execution_count": null,
      "metadata": {
        "colab": {
          "base_uri": "https://localhost:8080/"
        },
        "id": "F_fTpoQVkWAY",
        "outputId": "8e98eaef-8166-4ec8-cc60-e25d74a62280"
      },
      "outputs": [
        {
          "name": "stdout",
          "output_type": "stream",
          "text": [
            "[youtube] _DXli6HOEwM: Downloading webpage\n",
            "[youtube] _DXli6HOEwM: Downloading MPD manifest\n",
            "\u001b[0;33mWARNING:\u001b[0m Requested formats are incompatible for merge and will be merged into mkv.\n",
            "[dashsegments] Total fragments: 803\n",
            "[download] Destination: The 9x9 _ January 18th, 2022 _ Ep. 010-_DXli6HOEwM.f247.webm\n",
            "\u001b[K[download] 100% of 339.45MiB in 01:27\n",
            "[download] Destination: The 9x9 _ January 18th, 2022 _ Ep. 010-_DXli6HOEwM.f140.m4a\n",
            "\u001b[K[download] 100% of 61.89MiB in 18:50\n",
            "[ffmpeg] Merging formats into \"The 9x9 _ January 18th, 2022 _ Ep. 010-_DXli6HOEwM.mkv\"\n",
            "Deleting original file The 9x9 _ January 18th, 2022 _ Ep. 010-_DXli6HOEwM.f247.webm (pass -k to keep)\n",
            "Deleting original file The 9x9 _ January 18th, 2022 _ Ep. 010-_DXli6HOEwM.f140.m4a (pass -k to keep)\n"
          ]
        }
      ],
      "source": [
        "! youtube-dl --postprocessor-args \"-ss 00:17:30 -to 00:18:30\" \"https://www.youtube.com/watch?v=_DXli6HOEwM\""
      ]
    },
    {
      "cell_type": "code",
      "execution_count": null,
      "metadata": {
        "colab": {
          "base_uri": "https://localhost:8080/"
        },
        "id": "7D16eLMqmwkx",
        "outputId": "bb1f6ea6-b105-4fef-f8d6-43cee7efa14a"
      },
      "outputs": [
        {
          "name": "stdout",
          "output_type": "stream",
          "text": [
            "[youtube] NrlJ5kbILXk: Downloading webpage\n",
            "[youtube] NrlJ5kbILXk: Downloading MPD manifest\n",
            "\u001b[0;33mWARNING:\u001b[0m Requested formats are incompatible for merge and will be merged into mkv.\n",
            "[dashsegments] Total fragments: 917\n",
            "[download] Destination: The 9x9 _ January 25th, 2022 _ Ep. 011-NrlJ5kbILXk.f247.webm\n",
            "\u001b[K[download] 100% of 419.83MiB in 15:41\n",
            "[download] Destination: The 9x9 _ January 25th, 2022 _ Ep. 011-NrlJ5kbILXk.f140.m4a\n",
            "\u001b[K[download] 100% of 70.69MiB in 19:33\n",
            "[ffmpeg] Merging formats into \"The 9x9 _ January 25th, 2022 _ Ep. 011-NrlJ5kbILXk.mkv\"\n",
            "Deleting original file The 9x9 _ January 25th, 2022 _ Ep. 011-NrlJ5kbILXk.f247.webm (pass -k to keep)\n",
            "Deleting original file The 9x9 _ January 25th, 2022 _ Ep. 011-NrlJ5kbILXk.f140.m4a (pass -k to keep)\n"
          ]
        }
      ],
      "source": [
        "! youtube-dl --postprocessor-args \"-ss 01:13:53 -to 01:14:50\" \"https://youtu.be/NrlJ5kbILXk\""
      ]
    },
    {
      "cell_type": "code",
      "execution_count": null,
      "metadata": {
        "colab": {
          "base_uri": "https://localhost:8080/"
        },
        "id": "HxVpPPH3xOyt",
        "outputId": "087ab77e-ef27-4e8f-a745-def7d9c60cd1"
      },
      "outputs": [
        {
          "output_type": "stream",
          "name": "stdout",
          "text": [
            "[youtube] bUfUuUEyQws: Downloading webpage\n",
            "[youtube] bUfUuUEyQws: Downloading MPD manifest\n",
            "\u001b[0;33mWARNING:\u001b[0m Requested formats are incompatible for merge and will be merged into mkv.\n",
            "[download] The 9x9 _ February 22nd, 2022 _ Ep. 015-bUfUuUEyQws.mkv has already been downloaded and merged\n"
          ]
        }
      ],
      "source": [
        "! youtube-dl --postprocessor-args \"-ss 00:47:00 -to 00:48:30\" \"https://youtu.be/bUfUuUEyQws\""
      ]
    },
    {
      "cell_type": "code",
      "execution_count": null,
      "metadata": {
        "colab": {
          "base_uri": "https://localhost:8080/"
        },
        "id": "PXHlqDJWBqTE",
        "outputId": "3be03ce7-b6da-4181-af36-d89f27e62c1e"
      },
      "outputs": [
        {
          "output_type": "stream",
          "name": "stdout",
          "text": [
            "[youtube] N70kmikiQVs: Downloading webpage\n",
            "[youtube] N70kmikiQVs: Downloading MPD manifest\n",
            "\u001b[0;33mWARNING:\u001b[0m Requested formats are incompatible for merge and will be merged into mkv.\n",
            "[dashsegments] Total fragments: 870\n",
            "[download] Destination: The 9x9 _ March 22nd, 2022 _ Ep. 019-N70kmikiQVs.f247.webm\n",
            "\u001b[K[download] 100% of 389.03MiB in 14:37\n",
            "[download] Destination: The 9x9 _ March 22nd, 2022 _ Ep. 019-N70kmikiQVs.f140.m4a\n",
            "\u001b[K[download] 100% of 67.91MiB in 23:13\n",
            "[ffmpeg] Merging formats into \"The 9x9 _ March 22nd, 2022 _ Ep. 019-N70kmikiQVs.mkv\"\n",
            "Deleting original file The 9x9 _ March 22nd, 2022 _ Ep. 019-N70kmikiQVs.f247.webm (pass -k to keep)\n",
            "Deleting original file The 9x9 _ March 22nd, 2022 _ Ep. 019-N70kmikiQVs.f140.m4a (pass -k to keep)\n"
          ]
        }
      ],
      "source": [
        "! youtube-dl --postprocessor-args \"-ss 00:10:00 -to 00:11:30\" \"https://youtu.be/N70kmikiQVs\""
      ]
    },
    {
      "cell_type": "code",
      "execution_count": null,
      "metadata": {
        "id": "QN0zpGG4BrvM",
        "colab": {
          "base_uri": "https://localhost:8080/"
        },
        "outputId": "b6e52b27-fc4f-4ea2-a327-a90db8bacdc4"
      },
      "outputs": [
        {
          "output_type": "stream",
          "name": "stdout",
          "text": [
            "[youtube] JX1lZr5lIns: Downloading webpage\n",
            "[download] Destination: The 9x9 _ April 12, 2022 _ Ep. 022 #volleyball-JX1lZr5lIns.f136.mp4\n",
            "\u001b[K[download] 100% of 286.77MiB in 01:55:05\n",
            "[download] Destination: The 9x9 _ April 12, 2022 _ Ep. 022 #volleyball-JX1lZr5lIns.f140.m4a\n",
            "\u001b[K[download] 100% of 79.41MiB in 31:55\n",
            "[ffmpeg] Merging formats into \"The 9x9 _ April 12, 2022 _ Ep. 022 #volleyball-JX1lZr5lIns.mp4\"\n",
            "Deleting original file The 9x9 _ April 12, 2022 _ Ep. 022 #volleyball-JX1lZr5lIns.f136.mp4 (pass -k to keep)\n",
            "Deleting original file The 9x9 _ April 12, 2022 _ Ep. 022 #volleyball-JX1lZr5lIns.f140.m4a (pass -k to keep)\n"
          ]
        }
      ],
      "source": [
        "! youtube-dl --postprocessor-args \"-ss 00:21:00 -to 00:22:30\" \"https://youtu.be/JX1lZr5lIns\""
      ]
    },
    {
      "cell_type": "code",
      "execution_count": null,
      "metadata": {
        "id": "jMRIuiVhCfgM",
        "colab": {
          "base_uri": "https://localhost:8080/"
        },
        "outputId": "23f467ca-b3ee-4691-ec5e-aeab12cb9532"
      },
      "outputs": [
        {
          "output_type": "stream",
          "name": "stdout",
          "text": [
            "[youtube] L7CxQ8EZLAM: Downloading webpage\n",
            "[youtube] L7CxQ8EZLAM: Downloading MPD manifest\n",
            "[dashsegments] Total fragments: 925\n",
            "[download] Destination: LIVE FROM VNL OTTAWA _ Monday, June 6 _ The 9x9-L7CxQ8EZLAM.f303.webm\n",
            "\u001b[K[download]  51.5% of ~1.44GiB at  4.84MiB/s ETA 08:12"
          ]
        }
      ],
      "source": [
        "! youtube-dl --postprocessor-args \"-ss 00:59:00 -to 01:01:30\" \"https://youtu.be/L7CxQ8EZLAM\""
      ]
    },
    {
      "cell_type": "code",
      "execution_count": null,
      "metadata": {
        "id": "8X-Jsu3OCrqk"
      },
      "outputs": [],
      "source": [
        "! youtube-dl --postprocessor-args \"-ss 00:20:00 -to 00:21:30\" \"https://youtu.be/oVbc9vX1N9I\""
      ]
    },
    {
      "cell_type": "code",
      "execution_count": null,
      "metadata": {
        "id": "SIvDmwdzC_Mu"
      },
      "outputs": [],
      "source": [
        "! youtube-dl --postprocessor-args \"-ss 00:18:00 -to 00:19:30\" \"https://youtu.be/3sTHqVDR0Eo\""
      ]
    },
    {
      "cell_type": "code",
      "execution_count": null,
      "metadata": {
        "id": "rO9MlBVfDUDZ"
      },
      "outputs": [],
      "source": [
        "! youtube-dl --postprocessor-args \"-ss 00:22:00 -to 00:23:30\" \"https://youtu.be/UPPuzUy9Q3A\""
      ]
    },
    {
      "cell_type": "code",
      "execution_count": null,
      "metadata": {
        "id": "Z2EEVEozDol4"
      },
      "outputs": [],
      "source": [
        "! youtube-dl --postprocessor-args \"-ss 00:49:00 -to 00:50:30\" \"https://youtu.be/UPPuzUy9Q3A\""
      ]
    },
    {
      "cell_type": "code",
      "source": [
        "! youtube-dl --postprocessor-args \"-ss 00:05:00 -to 00:06:00\" \"https://youtu.be/SIsJG0WWiVQ\""
      ],
      "metadata": {
        "colab": {
          "base_uri": "https://localhost:8080/"
        },
        "id": "0VpjaIWTCDM8",
        "outputId": "bc17c49f-0034-41ea-d387-cc5f987c53b6"
      },
      "execution_count": 4,
      "outputs": [
        {
          "output_type": "stream",
          "name": "stdout",
          "text": [
            "[youtube] SIsJG0WWiVQ: Downloading webpage\n",
            "[youtube] SIsJG0WWiVQ: Downloading m3u8 information\n",
            "[youtube] SIsJG0WWiVQ: Downloading MPD manifest\n",
            "[download] NEW YEAR, MORE VOLLEYBALL _ The 9x9 _ January 10, 2023-SIsJG0WWiVQ.mp4 has already been downloaded and merged\n"
          ]
        }
      ]
    },
    {
      "cell_type": "code",
      "source": [
        "ydl_opts = {}\n",
        "with youtube_dl.YoutubeDL(ydl_opts) as ydl:\n",
        "    ydl.download(['https://youtu.be/SIsJG0WWiVQ'])"
      ],
      "metadata": {
        "id": "Drqq9ei7MTN9",
        "colab": {
          "base_uri": "https://localhost:8080/"
        },
        "outputId": "9ba55c40-a091-4b95-df09-ba2836d99f0f"
      },
      "execution_count": 3,
      "outputs": [
        {
          "output_type": "stream",
          "name": "stdout",
          "text": [
            "[youtube] SIsJG0WWiVQ: Downloading webpage\n",
            "[youtube] SIsJG0WWiVQ: Downloading m3u8 information\n",
            "[youtube] SIsJG0WWiVQ: Downloading MPD manifest\n",
            "[dashsegments] Total fragments: 1206\n",
            "[download] Destination: NEW YEAR, MORE VOLLEYBALL _ The 9x9 _ January 10, 2023-SIsJG0WWiVQ.f136.mp4\n",
            "[download] 100% of 284.31MiB in 19:05\n",
            "[dashsegments] Total fragments: 1206\n",
            "[download] Destination: NEW YEAR, MORE VOLLEYBALL _ The 9x9 _ January 10, 2023-SIsJG0WWiVQ.f140.m4a\n",
            "[download] 100% of 94.27MiB in 10:49\n",
            "[ffmpeg] Merging formats into \"NEW YEAR, MORE VOLLEYBALL _ The 9x9 _ January 10, 2023-SIsJG0WWiVQ.mp4\"\n",
            "Deleting original file NEW YEAR, MORE VOLLEYBALL _ The 9x9 _ January 10, 2023-SIsJG0WWiVQ.f136.mp4 (pass -k to keep)\n",
            "Deleting original file NEW YEAR, MORE VOLLEYBALL _ The 9x9 _ January 10, 2023-SIsJG0WWiVQ.f140.m4a (pass -k to keep)\n"
          ]
        }
      ]
    },
    {
      "cell_type": "code",
      "source": [
        "! ffmpeg -i \"/content/NEW YEAR, MORE VOLLEYBALL _ The 9x9 _ January 10, 2023-SIsJG0WWiVQ.mp4\" -ss 00:05:00 -t 00:06:00 -c:v copy -c:a copy output1.mp4"
      ],
      "metadata": {
        "id": "ow_irlcH45E9",
        "colab": {
          "base_uri": "https://localhost:8080/"
        },
        "outputId": "d2eb8603-f1b9-424c-9bfc-9a6ab1c49ebf"
      },
      "execution_count": 5,
      "outputs": [
        {
          "output_type": "stream",
          "name": "stdout",
          "text": [
            "ffmpeg version 3.4.11-0ubuntu0.1 Copyright (c) 2000-2022 the FFmpeg developers\n",
            "  built with gcc 7 (Ubuntu 7.5.0-3ubuntu1~18.04)\n",
            "  configuration: --prefix=/usr --extra-version=0ubuntu0.1 --toolchain=hardened --libdir=/usr/lib/x86_64-linux-gnu --incdir=/usr/include/x86_64-linux-gnu --enable-gpl --disable-stripping --enable-avresample --enable-avisynth --enable-gnutls --enable-ladspa --enable-libass --enable-libbluray --enable-libbs2b --enable-libcaca --enable-libcdio --enable-libflite --enable-libfontconfig --enable-libfreetype --enable-libfribidi --enable-libgme --enable-libgsm --enable-libmp3lame --enable-libmysofa --enable-libopenjpeg --enable-libopenmpt --enable-libopus --enable-libpulse --enable-librubberband --enable-librsvg --enable-libshine --enable-libsnappy --enable-libsoxr --enable-libspeex --enable-libssh --enable-libtheora --enable-libtwolame --enable-libvorbis --enable-libvpx --enable-libwavpack --enable-libwebp --enable-libx265 --enable-libxml2 --enable-libxvid --enable-libzmq --enable-libzvbi --enable-omx --enable-openal --enable-opengl --enable-sdl2 --enable-libdc1394 --enable-libdrm --enable-libiec61883 --enable-chromaprint --enable-frei0r --enable-libopencv --enable-libx264 --enable-shared\n",
            "  libavutil      55. 78.100 / 55. 78.100\n",
            "  libavcodec     57.107.100 / 57.107.100\n",
            "  libavformat    57. 83.100 / 57. 83.100\n",
            "  libavdevice    57. 10.100 / 57. 10.100\n",
            "  libavfilter     6.107.100 /  6.107.100\n",
            "  libavresample   3.  7.  0 /  3.  7.  0\n",
            "  libswscale      4.  8.100 /  4.  8.100\n",
            "  libswresample   2.  9.100 /  2.  9.100\n",
            "  libpostproc    54.  7.100 / 54.  7.100\n",
            "Input #0, mov,mp4,m4a,3gp,3g2,mj2, from '/content/NEW YEAR, MORE VOLLEYBALL _ The 9x9 _ January 10, 2023-SIsJG0WWiVQ.mp4':\n",
            "  Metadata:\n",
            "    major_brand     : isom\n",
            "    minor_version   : 512\n",
            "    compatible_brands: isomiso2avc1mp41\n",
            "    encoder         : Lavf57.83.100\n",
            "  Duration: 01:40:30.00, start: 0.000000, bitrate: 526 kb/s\n",
            "    Stream #0:0(und): Video: h264 (Main) (avc1 / 0x31637661), yuv420p(tv, bt709), 1280x720 [SAR 1:1 DAR 16:9], 391 kb/s, 30 fps, 30 tbr, 90k tbn, 60 tbc (default)\n",
            "    Metadata:\n",
            "      handler_name    : VideoHandler\n",
            "    Stream #0:1(und): Audio: aac (LC) (mp4a / 0x6134706D), 44100 Hz, stereo, fltp, 128 kb/s (default)\n",
            "    Metadata:\n",
            "      handler_name    : SoundHandler\n",
            "Output #0, mp4, to 'output1.mp4':\n",
            "  Metadata:\n",
            "    major_brand     : isom\n",
            "    minor_version   : 512\n",
            "    compatible_brands: isomiso2avc1mp41\n",
            "    encoder         : Lavf57.83.100\n",
            "    Stream #0:0(und): Video: h264 (Main) (avc1 / 0x31637661), yuv420p(tv, bt709), 1280x720 [SAR 1:1 DAR 16:9], q=2-31, 391 kb/s, 30 fps, 30 tbr, 90k tbn, 90k tbc (default)\n",
            "    Metadata:\n",
            "      handler_name    : VideoHandler\n",
            "    Stream #0:1(und): Audio: aac (LC) (mp4a / 0x6134706D), 44100 Hz, stereo, fltp, 128 kb/s (default)\n",
            "    Metadata:\n",
            "      handler_name    : SoundHandler\n",
            "Stream mapping:\n",
            "  Stream #0:0 -> #0:0 (copy)\n",
            "  Stream #0:1 -> #0:1 (copy)\n",
            "Press [q] to stop, [?] for help\n",
            "frame=10800 fps=0.0 q=-1.0 Lsize=   24628kB time=00:05:59.98 bitrate= 560.4kbits/s speed=2.18e+03x    \n",
            "video:18703kB audio:5625kB subtitle:0kB other streams:0kB global headers:0kB muxing overhead: 1.229010%\n"
          ]
        }
      ]
    },
    {
      "cell_type": "code",
      "source": [],
      "metadata": {
        "id": "xxJPmXd9E0MG"
      },
      "execution_count": null,
      "outputs": []
    }
  ],
  "metadata": {
    "colab": {
      "provenance": [],
      "authorship_tag": "ABX9TyNMtKChZs53WlsPp1x3bRUD"
    },
    "kernelspec": {
      "display_name": "Python 3",
      "name": "python3"
    },
    "language_info": {
      "name": "python"
    }
  },
  "nbformat": 4,
  "nbformat_minor": 0
}